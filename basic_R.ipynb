{
 "cells": [
  {
   "cell_type": "markdown",
   "metadata": {},
   "source": [
    "# Basic python versus R\n",
    "\n",
    "Below is R # commented python equivalent"
   ]
  },
  {
   "cell_type": "code",
   "execution_count": 4,
   "metadata": {},
   "outputs": [
    {
     "data": {
      "text/html": [
       "4"
      ],
      "text/latex": [
       "4"
      ],
      "text/markdown": [
       "4"
      ],
      "text/plain": [
       "[1] 4"
      ]
     },
     "metadata": {},
     "output_type": "display_data"
    }
   ],
   "source": [
    "x <- 2   # x = 2\n",
    "y <- x^2 # y = x**2\n",
    "y        # y"
   ]
  },
  {
   "cell_type": "markdown",
   "metadata": {},
   "source": [
    "Let's get some nice kind of meaninful data. For instance an exceprt of the data available at Gapminder.org, namely the for 142 countries, values for life expectancy, GDP per capita, and population, every five years, from 1952 to 2007 (2007 onwards would be great). This data was saved to .csv from R's gapminder package."
   ]
  },
  {
   "cell_type": "code",
   "execution_count": 4,
   "metadata": {
    "collapsed": true
   },
   "outputs": [],
   "source": [
    " # import pandas as pd\n",
    "gapminder_data <- read.csv(\"https://raw.githubusercontent.com/berndtlindner/R_and_python/initial/data/gapminder_lifeExp_gdp.csv\") # gapminder_data = pd.read_csv(\"https://raw.githubusercontent.com/berndtlindner/R_and_python/initial/data/gapminder_lifeExp_gdp.csv\")"
   ]
  },
  {
   "cell_type": "code",
   "execution_count": 16,
   "metadata": {},
   "outputs": [
    {
     "data": {
      "text/html": [
       "'data.frame'"
      ],
      "text/latex": [
       "'data.frame'"
      ],
      "text/markdown": [
       "'data.frame'"
      ],
      "text/plain": [
       "[1] \"data.frame\""
      ]
     },
     "metadata": {},
     "output_type": "display_data"
    }
   ],
   "source": [
    "class(gapminder_data) # type(gapminder_data)"
   ]
  },
  {
   "cell_type": "code",
   "execution_count": 17,
   "metadata": {},
   "outputs": [
    {
     "data": {
      "text/html": [
       "<ol class=list-inline>\n",
       "\t<li>1704</li>\n",
       "\t<li>7</li>\n",
       "</ol>\n"
      ],
      "text/latex": [
       "\\begin{enumerate*}\n",
       "\\item 1704\n",
       "\\item 7\n",
       "\\end{enumerate*}\n"
      ],
      "text/markdown": [
       "1. 1704\n",
       "2. 7\n",
       "\n",
       "\n"
      ],
      "text/plain": [
       "[1] 1704    7"
      ]
     },
     "metadata": {},
     "output_type": "display_data"
    }
   ],
   "source": [
    "dim(gapminder_data)"
   ]
  },
  {
   "cell_type": "code",
   "execution_count": 18,
   "metadata": {},
   "outputs": [
    {
     "name": "stdout",
     "output_type": "stream",
     "text": [
      "'data.frame':\t1704 obs. of  7 variables:\n",
      " $ X        : int  1 2 3 4 5 6 7 8 9 10 ...\n",
      " $ country  : Factor w/ 142 levels \"Afghanistan\",..: 1 1 1 1 1 1 1 1 1 1 ...\n",
      " $ continent: Factor w/ 5 levels \"Africa\",\"Americas\",..: 3 3 3 3 3 3 3 3 3 3 ...\n",
      " $ year     : int  1952 1957 1962 1967 1972 1977 1982 1987 1992 1997 ...\n",
      " $ lifeExp  : num  28.8 30.3 32 34 36.1 ...\n",
      " $ pop      : int  8425333 9240934 10267083 11537966 13079460 14880372 12881816 13867957 16317921 22227415 ...\n",
      " $ gdpPercap: num  779 821 853 836 740 ...\n"
     ]
    }
   ],
   "source": [
    "str(gapminder_data)"
   ]
  },
  {
   "cell_type": "code",
   "execution_count": 7,
   "metadata": {},
   "outputs": [
    {
     "data": {
      "text/html": [
       "<table>\n",
       "<thead><tr><th scope=col>X</th><th scope=col>country</th><th scope=col>continent</th><th scope=col>year</th><th scope=col>lifeExp</th><th scope=col>pop</th><th scope=col>gdpPercap</th></tr></thead>\n",
       "<tbody>\n",
       "\t<tr><td>1          </td><td>Afghanistan</td><td>Asia       </td><td>1952       </td><td>28.801     </td><td> 8425333   </td><td>779.4453   </td></tr>\n",
       "\t<tr><td>2          </td><td>Afghanistan</td><td>Asia       </td><td>1957       </td><td>30.332     </td><td> 9240934   </td><td>820.8530   </td></tr>\n",
       "\t<tr><td>3          </td><td>Afghanistan</td><td>Asia       </td><td>1962       </td><td>31.997     </td><td>10267083   </td><td>853.1007   </td></tr>\n",
       "\t<tr><td>4          </td><td>Afghanistan</td><td>Asia       </td><td>1967       </td><td>34.020     </td><td>11537966   </td><td>836.1971   </td></tr>\n",
       "\t<tr><td>5          </td><td>Afghanistan</td><td>Asia       </td><td>1972       </td><td>36.088     </td><td>13079460   </td><td>739.9811   </td></tr>\n",
       "\t<tr><td>6          </td><td>Afghanistan</td><td>Asia       </td><td>1977       </td><td>38.438     </td><td>14880372   </td><td>786.1134   </td></tr>\n",
       "</tbody>\n",
       "</table>\n"
      ],
      "text/latex": [
       "\\begin{tabular}{r|lllllll}\n",
       " X & country & continent & year & lifeExp & pop & gdpPercap\\\\\n",
       "\\hline\n",
       "\t 1           & Afghanistan & Asia        & 1952        & 28.801      &  8425333    & 779.4453   \\\\\n",
       "\t 2           & Afghanistan & Asia        & 1957        & 30.332      &  9240934    & 820.8530   \\\\\n",
       "\t 3           & Afghanistan & Asia        & 1962        & 31.997      & 10267083    & 853.1007   \\\\\n",
       "\t 4           & Afghanistan & Asia        & 1967        & 34.020      & 11537966    & 836.1971   \\\\\n",
       "\t 5           & Afghanistan & Asia        & 1972        & 36.088      & 13079460    & 739.9811   \\\\\n",
       "\t 6           & Afghanistan & Asia        & 1977        & 38.438      & 14880372    & 786.1134   \\\\\n",
       "\\end{tabular}\n"
      ],
      "text/markdown": [
       "\n",
       "X | country | continent | year | lifeExp | pop | gdpPercap | \n",
       "|---|---|---|---|---|---|\n",
       "| 1           | Afghanistan | Asia        | 1952        | 28.801      |  8425333    | 779.4453    | \n",
       "| 2           | Afghanistan | Asia        | 1957        | 30.332      |  9240934    | 820.8530    | \n",
       "| 3           | Afghanistan | Asia        | 1962        | 31.997      | 10267083    | 853.1007    | \n",
       "| 4           | Afghanistan | Asia        | 1967        | 34.020      | 11537966    | 836.1971    | \n",
       "| 5           | Afghanistan | Asia        | 1972        | 36.088      | 13079460    | 739.9811    | \n",
       "| 6           | Afghanistan | Asia        | 1977        | 38.438      | 14880372    | 786.1134    | \n",
       "\n",
       "\n"
      ],
      "text/plain": [
       "  X country     continent year lifeExp pop      gdpPercap\n",
       "1 1 Afghanistan Asia      1952 28.801   8425333 779.4453 \n",
       "2 2 Afghanistan Asia      1957 30.332   9240934 820.8530 \n",
       "3 3 Afghanistan Asia      1962 31.997  10267083 853.1007 \n",
       "4 4 Afghanistan Asia      1967 34.020  11537966 836.1971 \n",
       "5 5 Afghanistan Asia      1972 36.088  13079460 739.9811 \n",
       "6 6 Afghanistan Asia      1977 38.438  14880372 786.1134 "
      ]
     },
     "metadata": {},
     "output_type": "display_data"
    }
   ],
   "source": [
    "head(gapminder_data)"
   ]
  },
  {
   "cell_type": "code",
   "execution_count": 24,
   "metadata": {},
   "outputs": [
    {
     "data": {
      "image/png": "[encoded data removed]",
      "text/plain": [
       "plot without title"
      ]
     },
     "metadata": {},
     "output_type": "display_data"
    }
   ],
   "source": [
    "plot(gapminder_data$year, gapminder_data$lifeExp)\n",
    "#below will also work (looks bit more like pyhton)\n",
    "#plot(gapminder_data[['year']], gapminder_data[['lifeExp']])"
   ]
  },
  {
   "cell_type": "code",
   "execution_count": 21,
   "metadata": {},
   "outputs": [
    {
     "data": {
      "text/html": [
       "<ol class=list-inline>\n",
       "\t<li>Asia</li>\n",
       "\t<li>Europe</li>\n",
       "\t<li>Africa</li>\n",
       "\t<li>Americas</li>\n",
       "\t<li>Oceania</li>\n",
       "</ol>\n"
      ],
      "text/latex": [
       "\\begin{enumerate*}\n",
       "\\item Asia\n",
       "\\item Europe\n",
       "\\item Africa\n",
       "\\item Americas\n",
       "\\item Oceania\n",
       "\\end{enumerate*}\n"
      ],
      "text/markdown": [
       "1. Asia\n",
       "2. Europe\n",
       "3. Africa\n",
       "4. Americas\n",
       "5. Oceania\n",
       "\n",
       "\n"
      ],
      "text/plain": [
       "[1] Asia     Europe   Africa   Americas Oceania \n",
       "Levels: Africa Americas Asia Europe Oceania"
      ]
     },
     "metadata": {},
     "output_type": "display_data"
    }
   ],
   "source": [
    "unique(gapminder_data$continent)"
   ]
  },
  {
   "cell_type": "markdown",
   "metadata": {},
   "source": [
    "Let's rank how well each continent is doing based on Average life expectacny over the entire data's period.\n",
    "We will use R's dplyr package for this (in python this will be equivalently the pandas package)"
   ]
  },
  {
   "cell_type": "code",
   "execution_count": 29,
   "metadata": {},
   "outputs": [
    {
     "data": {
      "text/html": [
       "<table>\n",
       "<thead><tr><th scope=col>continent</th><th scope=col>mean(lifeExp)</th></tr></thead>\n",
       "<tbody>\n",
       "\t<tr><td>Africa  </td><td>48.86533</td></tr>\n",
       "\t<tr><td>Americas</td><td>64.65874</td></tr>\n",
       "\t<tr><td>Asia    </td><td>60.06490</td></tr>\n",
       "\t<tr><td>Europe  </td><td>71.90369</td></tr>\n",
       "\t<tr><td>Oceania </td><td>74.32621</td></tr>\n",
       "</tbody>\n",
       "</table>\n"
      ],
      "text/latex": [
       "\\begin{tabular}{r|ll}\n",
       " continent & mean(lifeExp)\\\\\n",
       "\\hline\n",
       "\t Africa   & 48.86533\\\\\n",
       "\t Americas & 64.65874\\\\\n",
       "\t Asia     & 60.06490\\\\\n",
       "\t Europe   & 71.90369\\\\\n",
       "\t Oceania  & 74.32621\\\\\n",
       "\\end{tabular}\n"
      ],
      "text/markdown": [
       "\n",
       "continent | mean(lifeExp) | \n",
       "|---|---|---|---|---|\n",
       "| Africa   | 48.86533 | \n",
       "| Americas | 64.65874 | \n",
       "| Asia     | 60.06490 | \n",
       "| Europe   | 71.90369 | \n",
       "| Oceania  | 74.32621 | \n",
       "\n",
       "\n"
      ],
      "text/plain": [
       "  continent mean(lifeExp)\n",
       "1 Africa    48.86533     \n",
       "2 Americas  64.65874     \n",
       "3 Asia      60.06490     \n",
       "4 Europe    71.90369     \n",
       "5 Oceania   74.32621     "
      ]
     },
     "metadata": {},
     "output_type": "display_data"
    }
   ],
   "source": [
    "library(dplyr)\n",
    "summarise(group_by(gapminder_data, continent), mean(lifeExp))"
   ]
  },
  {
   "cell_type": "markdown",
   "metadata": {},
   "source": [
    "Let's say we want to dig deeper and further group by 'year' as well."
   ]
  },
  {
   "cell_type": "code",
   "execution_count": 33,
   "metadata": {},
   "outputs": [
    {
     "data": {
      "text/html": [
       "<table>\n",
       "<thead><tr><th scope=col>continent</th><th scope=col>year</th><th scope=col>mean(lifeExp)</th></tr></thead>\n",
       "<tbody>\n",
       "\t<tr><td>Africa  </td><td>1952    </td><td>39.13550</td></tr>\n",
       "\t<tr><td>Africa  </td><td>1957    </td><td>41.26635</td></tr>\n",
       "\t<tr><td>Africa  </td><td>1962    </td><td>43.31944</td></tr>\n",
       "\t<tr><td>Africa  </td><td>1967    </td><td>45.33454</td></tr>\n",
       "\t<tr><td>Africa  </td><td>1972    </td><td>47.45094</td></tr>\n",
       "\t<tr><td>Africa  </td><td>1977    </td><td>49.58042</td></tr>\n",
       "</tbody>\n",
       "</table>\n"
      ],
      "text/latex": [
       "\\begin{tabular}{r|lll}\n",
       " continent & year & mean(lifeExp)\\\\\n",
       "\\hline\n",
       "\t Africa   & 1952     & 39.13550\\\\\n",
       "\t Africa   & 1957     & 41.26635\\\\\n",
       "\t Africa   & 1962     & 43.31944\\\\\n",
       "\t Africa   & 1967     & 45.33454\\\\\n",
       "\t Africa   & 1972     & 47.45094\\\\\n",
       "\t Africa   & 1977     & 49.58042\\\\\n",
       "\\end{tabular}\n"
      ],
      "text/markdown": [
       "\n",
       "continent | year | mean(lifeExp) | \n",
       "|---|---|---|---|---|---|\n",
       "| Africa   | 1952     | 39.13550 | \n",
       "| Africa   | 1957     | 41.26635 | \n",
       "| Africa   | 1962     | 43.31944 | \n",
       "| Africa   | 1967     | 45.33454 | \n",
       "| Africa   | 1972     | 47.45094 | \n",
       "| Africa   | 1977     | 49.58042 | \n",
       "\n",
       "\n"
      ],
      "text/plain": [
       "  continent year mean(lifeExp)\n",
       "1 Africa    1952 39.13550     \n",
       "2 Africa    1957 41.26635     \n",
       "3 Africa    1962 43.31944     \n",
       "4 Africa    1967 45.33454     \n",
       "5 Africa    1972 47.45094     \n",
       "6 Africa    1977 49.58042     "
      ]
     },
     "metadata": {},
     "output_type": "display_data"
    }
   ],
   "source": [
    "data <- summarise(group_by(gapminder_data, continent, year), mean(lifeExp))\n",
    "head(data)"
   ]
  },
  {
   "cell_type": "markdown",
   "metadata": {},
   "source": [
    "Let's plot this."
   ]
  },
  {
   "cell_type": "code",
   "execution_count": 70,
   "metadata": {},
   "outputs": [
    {
     "data": {
      "image/png": "[encoded data removed]",
      "text/plain": [
       "plot without title"
      ]
     },
     "metadata": {},
     "output_type": "display_data"
    }
   ],
   "source": [
    "plot(data$year,data$`mean(lifeExp)`)\n",
    "#legend(\"bottomright\", legend=levels(factor(data$continent)), text.col=seq_along(levels(factor(data$continent))))"
   ]
  },
  {
   "cell_type": "markdown",
   "metadata": {},
   "source": [
    "I would like to plot scatter plot by color per continent. Let's first `join` on a color column on our data."
   ]
  },
  {
   "cell_type": "code",
   "execution_count": 74,
   "metadata": {},
   "outputs": [
    {
     "data": {
      "text/html": [
       "<table>\n",
       "<thead><tr><th scope=col>continent</th><th scope=col>color</th></tr></thead>\n",
       "<tbody>\n",
       "\t<tr><td>Asia    </td><td>Red     </td></tr>\n",
       "\t<tr><td>Europe  </td><td>Blue    </td></tr>\n",
       "\t<tr><td>Africa  </td><td>Green   </td></tr>\n",
       "\t<tr><td>Americas</td><td>Purple  </td></tr>\n",
       "\t<tr><td>Oceania </td><td>Orange  </td></tr>\n",
       "</tbody>\n",
       "</table>\n"
      ],
      "text/latex": [
       "\\begin{tabular}{r|ll}\n",
       " continent & color\\\\\n",
       "\\hline\n",
       "\t Asia     & Red     \\\\\n",
       "\t Europe   & Blue    \\\\\n",
       "\t Africa   & Green   \\\\\n",
       "\t Americas & Purple  \\\\\n",
       "\t Oceania  & Orange  \\\\\n",
       "\\end{tabular}\n"
      ],
      "text/markdown": [
       "\n",
       "continent | color | \n",
       "|---|---|---|---|---|\n",
       "| Asia     | Red      | \n",
       "| Europe   | Blue     | \n",
       "| Africa   | Green    | \n",
       "| Americas | Purple   | \n",
       "| Oceania  | Orange   | \n",
       "\n",
       "\n"
      ],
      "text/plain": [
       "  continent color \n",
       "1 Asia      Red   \n",
       "2 Europe    Blue  \n",
       "3 Africa    Green \n",
       "4 Americas  Purple\n",
       "5 Oceania   Orange"
      ]
     },
     "metadata": {},
     "output_type": "display_data"
    },
    {
     "data": {
      "text/html": [
       "<table>\n",
       "<thead><tr><th scope=col>continent</th><th scope=col>year</th><th scope=col>mean(lifeExp)</th><th scope=col>color</th></tr></thead>\n",
       "<tbody>\n",
       "\t<tr><td>Africa  </td><td>1952    </td><td>39.13550</td><td>Green   </td></tr>\n",
       "\t<tr><td>Africa  </td><td>1957    </td><td>41.26635</td><td>Green   </td></tr>\n",
       "\t<tr><td>Africa  </td><td>1962    </td><td>43.31944</td><td>Green   </td></tr>\n",
       "\t<tr><td>Africa  </td><td>1967    </td><td>45.33454</td><td>Green   </td></tr>\n",
       "\t<tr><td>Africa  </td><td>1972    </td><td>47.45094</td><td>Green   </td></tr>\n",
       "\t<tr><td>Africa  </td><td>1977    </td><td>49.58042</td><td>Green   </td></tr>\n",
       "</tbody>\n",
       "</table>\n"
      ],
      "text/latex": [
       "\\begin{tabular}{r|llll}\n",
       " continent & year & mean(lifeExp) & color\\\\\n",
       "\\hline\n",
       "\t Africa   & 1952     & 39.13550 & Green   \\\\\n",
       "\t Africa   & 1957     & 41.26635 & Green   \\\\\n",
       "\t Africa   & 1962     & 43.31944 & Green   \\\\\n",
       "\t Africa   & 1967     & 45.33454 & Green   \\\\\n",
       "\t Africa   & 1972     & 47.45094 & Green   \\\\\n",
       "\t Africa   & 1977     & 49.58042 & Green   \\\\\n",
       "\\end{tabular}\n"
      ],
      "text/markdown": [
       "\n",
       "continent | year | mean(lifeExp) | color | \n",
       "|---|---|---|---|---|---|\n",
       "| Africa   | 1952     | 39.13550 | Green    | \n",
       "| Africa   | 1957     | 41.26635 | Green    | \n",
       "| Africa   | 1962     | 43.31944 | Green    | \n",
       "| Africa   | 1967     | 45.33454 | Green    | \n",
       "| Africa   | 1972     | 47.45094 | Green    | \n",
       "| Africa   | 1977     | 49.58042 | Green    | \n",
       "\n",
       "\n"
      ],
      "text/plain": [
       "  continent year mean(lifeExp) color\n",
       "1 Africa    1952 39.13550      Green\n",
       "2 Africa    1957 41.26635      Green\n",
       "3 Africa    1962 43.31944      Green\n",
       "4 Africa    1967 45.33454      Green\n",
       "5 Africa    1972 47.45094      Green\n",
       "6 Africa    1977 49.58042      Green"
      ]
     },
     "metadata": {},
     "output_type": "display_data"
    }
   ],
   "source": [
    "continent_color <- data.frame(continent=c(\"Asia\", \"Europe\",\"Africa\", \"Americas\", \"Oceania\"),\n",
    "                               color=c(\"Red\", \"Blue\", \"Green\", \"Purple\", \"Orange\"))\n",
    "continent_color\n",
    "data_joined <- left_join(data, continent_color, by = \"continent\")\n",
    "head(data_joined)"
   ]
  },
  {
   "cell_type": "code",
   "execution_count": 79,
   "metadata": {},
   "outputs": [
    {
     "data": {
      "image/png": "[encoded data removed]",
      "text/plain": [
       "plot without title"
      ]
     },
     "metadata": {},
     "output_type": "display_data"
    }
   ],
   "source": [
    "plot(x= data_joined$year,y = data_joined$`mean(lifeExp)`, col=data_joined$color)"
   ]
  }
 ],
 "metadata": {
  "kernelspec": {
   "display_name": "R",
   "language": "R",
   "name": "ir"
  },
  "language_info": {
   "codemirror_mode": "r",
   "file_extension": ".r",
   "mimetype": "text/x-r-source",
   "name": "R",
   "pygments_lexer": "r",
   "version": "3.4.2"
  }
 },
 "nbformat": 4,
 "nbformat_minor": 2
}
