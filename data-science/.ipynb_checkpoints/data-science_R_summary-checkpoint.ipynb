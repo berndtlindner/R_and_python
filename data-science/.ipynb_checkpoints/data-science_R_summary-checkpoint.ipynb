{
 "cells": [
  {
   "cell_type": "markdown",
   "metadata": {},
   "source": [
    "# python versus R\n",
    "## simple data analysis, wrangling, and plotting\n",
    "Below is R summary \n",
    "More details may be found at ... \n",
    "python equivalent in data-science_R_summary notebook in same folder"
   ]
  },
  {
   "cell_type": "code",
   "execution_count": 1,
   "metadata": {},
   "outputs": [
    {
     "data": {
      "text/html": [
       "<table>\n",
       "<thead><tr><th scope=col>X</th><th scope=col>country</th><th scope=col>continent</th><th scope=col>year</th><th scope=col>lifeExp</th><th scope=col>pop</th><th scope=col>gdpPercap</th></tr></thead>\n",
       "<tbody>\n",
       "\t<tr><td>1          </td><td>Afghanistan</td><td>Asia       </td><td>1952       </td><td>28.801     </td><td> 8425333   </td><td>779.4453   </td></tr>\n",
       "\t<tr><td>2          </td><td>Afghanistan</td><td>Asia       </td><td>1957       </td><td>30.332     </td><td> 9240934   </td><td>820.8530   </td></tr>\n",
       "\t<tr><td>3          </td><td>Afghanistan</td><td>Asia       </td><td>1962       </td><td>31.997     </td><td>10267083   </td><td>853.1007   </td></tr>\n",
       "\t<tr><td>4          </td><td>Afghanistan</td><td>Asia       </td><td>1967       </td><td>34.020     </td><td>11537966   </td><td>836.1971   </td></tr>\n",
       "\t<tr><td>5          </td><td>Afghanistan</td><td>Asia       </td><td>1972       </td><td>36.088     </td><td>13079460   </td><td>739.9811   </td></tr>\n",
       "\t<tr><td>6          </td><td>Afghanistan</td><td>Asia       </td><td>1977       </td><td>38.438     </td><td>14880372   </td><td>786.1134   </td></tr>\n",
       "</tbody>\n",
       "</table>\n"
      ],
      "text/latex": [
       "\\begin{tabular}{r|lllllll}\n",
       " X & country & continent & year & lifeExp & pop & gdpPercap\\\\\n",
       "\\hline\n",
       "\t 1           & Afghanistan & Asia        & 1952        & 28.801      &  8425333    & 779.4453   \\\\\n",
       "\t 2           & Afghanistan & Asia        & 1957        & 30.332      &  9240934    & 820.8530   \\\\\n",
       "\t 3           & Afghanistan & Asia        & 1962        & 31.997      & 10267083    & 853.1007   \\\\\n",
       "\t 4           & Afghanistan & Asia        & 1967        & 34.020      & 11537966    & 836.1971   \\\\\n",
       "\t 5           & Afghanistan & Asia        & 1972        & 36.088      & 13079460    & 739.9811   \\\\\n",
       "\t 6           & Afghanistan & Asia        & 1977        & 38.438      & 14880372    & 786.1134   \\\\\n",
       "\\end{tabular}\n"
      ],
      "text/markdown": [
       "\n",
       "X | country | continent | year | lifeExp | pop | gdpPercap | \n",
       "|---|---|---|---|---|---|\n",
       "| 1           | Afghanistan | Asia        | 1952        | 28.801      |  8425333    | 779.4453    | \n",
       "| 2           | Afghanistan | Asia        | 1957        | 30.332      |  9240934    | 820.8530    | \n",
       "| 3           | Afghanistan | Asia        | 1962        | 31.997      | 10267083    | 853.1007    | \n",
       "| 4           | Afghanistan | Asia        | 1967        | 34.020      | 11537966    | 836.1971    | \n",
       "| 5           | Afghanistan | Asia        | 1972        | 36.088      | 13079460    | 739.9811    | \n",
       "| 6           | Afghanistan | Asia        | 1977        | 38.438      | 14880372    | 786.1134    | \n",
       "\n",
       "\n"
      ],
      "text/plain": [
       "  X country     continent year lifeExp pop      gdpPercap\n",
       "1 1 Afghanistan Asia      1952 28.801   8425333 779.4453 \n",
       "2 2 Afghanistan Asia      1957 30.332   9240934 820.8530 \n",
       "3 3 Afghanistan Asia      1962 31.997  10267083 853.1007 \n",
       "4 4 Afghanistan Asia      1967 34.020  11537966 836.1971 \n",
       "5 5 Afghanistan Asia      1972 36.088  13079460 739.9811 \n",
       "6 6 Afghanistan Asia      1977 38.438  14880372 786.1134 "
      ]
     },
     "metadata": {},
     "output_type": "display_data"
    }
   ],
   "source": [
    "gapminder_data <- read.csv(\"https://raw.githubusercontent.com/berndtlindner/R_and_python/master/data/gapminder_lifeExp_gdp.csv\")\n",
    "head(gapminder_data)"
   ]
  },
  {
   "cell_type": "code",
   "execution_count": 2,
   "metadata": {
    "collapsed": true
   },
   "outputs": [],
   "source": [
    "continent_color <- data.frame(continent=c(\"Asia\", \"Europe\",\"Africa\", \"Americas\", \"Oceania\"),\n",
    "                               color=c(\"red\", \"blue\", \"green\", \"purple\", \"purple\"))"
   ]
  },
  {
   "cell_type": "code",
   "execution_count": 3,
   "metadata": {},
   "outputs": [
    {
     "name": "stderr",
     "output_type": "stream",
     "text": [
      "Warning message:\n",
      "\"package 'dplyr' was built under R version 3.4.3\"\n",
      "Attaching package: 'dplyr'\n",
      "\n",
      "The following objects are masked from 'package:stats':\n",
      "\n",
      "    filter, lag\n",
      "\n",
      "The following objects are masked from 'package:base':\n",
      "\n",
      "    intersect, setdiff, setequal, union\n",
      "\n"
     ]
    },
    {
     "data": {
      "text/html": [
       "<table>\n",
       "<thead><tr><th scope=col>continent</th><th scope=col>year</th><th scope=col>lifeExp_mean</th><th scope=col>color</th></tr></thead>\n",
       "<tbody>\n",
       "\t<tr><td>Africa  </td><td>1952    </td><td>39.13550</td><td>green   </td></tr>\n",
       "\t<tr><td>Africa  </td><td>1957    </td><td>41.26635</td><td>green   </td></tr>\n",
       "\t<tr><td>Africa  </td><td>1962    </td><td>43.31944</td><td>green   </td></tr>\n",
       "\t<tr><td>Africa  </td><td>1967    </td><td>45.33454</td><td>green   </td></tr>\n",
       "\t<tr><td>Africa  </td><td>1972    </td><td>47.45094</td><td>green   </td></tr>\n",
       "\t<tr><td>Africa  </td><td>1977    </td><td>49.58042</td><td>green   </td></tr>\n",
       "</tbody>\n",
       "</table>\n"
      ],
      "text/latex": [
       "\\begin{tabular}{r|llll}\n",
       " continent & year & lifeExp\\_mean & color\\\\\n",
       "\\hline\n",
       "\t Africa   & 1952     & 39.13550 & green   \\\\\n",
       "\t Africa   & 1957     & 41.26635 & green   \\\\\n",
       "\t Africa   & 1962     & 43.31944 & green   \\\\\n",
       "\t Africa   & 1967     & 45.33454 & green   \\\\\n",
       "\t Africa   & 1972     & 47.45094 & green   \\\\\n",
       "\t Africa   & 1977     & 49.58042 & green   \\\\\n",
       "\\end{tabular}\n"
      ],
      "text/markdown": [
       "\n",
       "continent | year | lifeExp_mean | color | \n",
       "|---|---|---|---|---|---|\n",
       "| Africa   | 1952     | 39.13550 | green    | \n",
       "| Africa   | 1957     | 41.26635 | green    | \n",
       "| Africa   | 1962     | 43.31944 | green    | \n",
       "| Africa   | 1967     | 45.33454 | green    | \n",
       "| Africa   | 1972     | 47.45094 | green    | \n",
       "| Africa   | 1977     | 49.58042 | green    | \n",
       "\n",
       "\n"
      ],
      "text/plain": [
       "  continent year lifeExp_mean color\n",
       "1 Africa    1952 39.13550     green\n",
       "2 Africa    1957 41.26635     green\n",
       "3 Africa    1962 43.31944     green\n",
       "4 Africa    1967 45.33454     green\n",
       "5 Africa    1972 47.45094     green\n",
       "6 Africa    1977 49.58042     green"
      ]
     },
     "metadata": {},
     "output_type": "display_data"
    }
   ],
   "source": [
    "library(dplyr)\n",
    "data <-  gapminder_data  %>% \n",
    "group_by(continent, year)  %>%  \n",
    "summarise(lifeExp_mean = mean(lifeExp))  %>% \n",
    "left_join(continent_color, by = \"continent\")    #left_join on colors for the continents\n",
    "data  %>% head()"
   ]
  },
  {
   "cell_type": "code",
   "execution_count": 4,
   "metadata": {},
   "outputs": [
    {
     "data": {
      "text/plain": [
       "\n",
       "Call:\n",
       "lm(formula = data$year ~ data$lifeExp_mean)\n",
       "\n",
       "Coefficients:\n",
       "      (Intercept)  data$lifeExp_mean  \n",
       "        1928.1693             0.8025  \n"
      ]
     },
     "metadata": {},
     "output_type": "display_data"
    }
   ],
   "source": [
    "lm(data$year ~ data$lifeExp_mean) #Fitting Linear Models [lm(y ~ x1+x2+....)]"
   ]
  },
  {
   "cell_type": "markdown",
   "metadata": {},
   "source": [
    "Let's fit a linear model to expected life expectency (also let's exclude \"Oceania\") We use the broom package, which converts statistical analysis objects (for example the lm function or any user defined function) in R into tidy format"
   ]
  },
  {
   "cell_type": "code",
   "execution_count": 5,
   "metadata": {},
   "outputs": [
    {
     "name": "stderr",
     "output_type": "stream",
     "text": [
      "Warning message:\n",
      "\"package 'broom' was built under R version 3.4.3\"Warning message:\n",
      "\"package 'bindrcpp' was built under R version 3.4.3\""
     ]
    },
    {
     "data": {
      "text/html": [
       "<table>\n",
       "<thead><tr><th scope=col>continent</th><th scope=col>term</th><th scope=col>estimate</th><th scope=col>std.error</th><th scope=col>statistic</th><th scope=col>p.value</th></tr></thead>\n",
       "<tbody>\n",
       "\t<tr><td>Africa      </td><td>(Intercept) </td><td>-524.2578461</td><td>53.64492850 </td><td> -9.772738  </td><td>1.961582e-06</td></tr>\n",
       "\t<tr><td>Africa      </td><td>year        </td><td>   0.2895293</td><td> 0.02709921 </td><td> 10.684047  </td><td>8.639697e-07</td></tr>\n",
       "\t<tr><td>Americas    </td><td>(Intercept) </td><td>-663.1062932</td><td>23.87082826 </td><td>-27.778939  </td><td>8.478378e-11</td></tr>\n",
       "\t<tr><td>Americas    </td><td>year        </td><td>   0.3676509</td><td> 0.01205856 </td><td> 30.488791  </td><td>3.375967e-11</td></tr>\n",
       "\t<tr><td>Asia        </td><td>(Intercept) </td><td>-836.8908953</td><td>36.46443200 </td><td>-22.950883  </td><td>5.567594e-10</td></tr>\n",
       "\t<tr><td>Asia        </td><td>year        </td><td>   0.4531224</td><td> 0.01842033 </td><td> 24.599037  </td><td>2.813781e-10</td></tr>\n",
       "\t<tr><td>Europe      </td><td>(Intercept) </td><td>-367.4109940</td><td>20.09478025 </td><td>-18.283902  </td><td>5.149107e-09</td></tr>\n",
       "\t<tr><td>Europe      </td><td>year        </td><td>   0.2219321</td><td> 0.01015106 </td><td> 21.862960  </td><td>8.969989e-10</td></tr>\n",
       "</tbody>\n",
       "</table>\n"
      ],
      "text/latex": [
       "\\begin{tabular}{r|llllll}\n",
       " continent & term & estimate & std.error & statistic & p.value\\\\\n",
       "\\hline\n",
       "\t Africa       & (Intercept)  & -524.2578461 & 53.64492850  &  -9.772738   & 1.961582e-06\\\\\n",
       "\t Africa       & year         &    0.2895293 &  0.02709921  &  10.684047   & 8.639697e-07\\\\\n",
       "\t Americas     & (Intercept)  & -663.1062932 & 23.87082826  & -27.778939   & 8.478378e-11\\\\\n",
       "\t Americas     & year         &    0.3676509 &  0.01205856  &  30.488791   & 3.375967e-11\\\\\n",
       "\t Asia         & (Intercept)  & -836.8908953 & 36.46443200  & -22.950883   & 5.567594e-10\\\\\n",
       "\t Asia         & year         &    0.4531224 &  0.01842033  &  24.599037   & 2.813781e-10\\\\\n",
       "\t Europe       & (Intercept)  & -367.4109940 & 20.09478025  & -18.283902   & 5.149107e-09\\\\\n",
       "\t Europe       & year         &    0.2219321 &  0.01015106  &  21.862960   & 8.969989e-10\\\\\n",
       "\\end{tabular}\n"
      ],
      "text/markdown": [
       "\n",
       "continent | term | estimate | std.error | statistic | p.value | \n",
       "|---|---|---|---|---|---|---|---|\n",
       "| Africa       | (Intercept)  | -524.2578461 | 53.64492850  |  -9.772738   | 1.961582e-06 | \n",
       "| Africa       | year         |    0.2895293 |  0.02709921  |  10.684047   | 8.639697e-07 | \n",
       "| Americas     | (Intercept)  | -663.1062932 | 23.87082826  | -27.778939   | 8.478378e-11 | \n",
       "| Americas     | year         |    0.3676509 |  0.01205856  |  30.488791   | 3.375967e-11 | \n",
       "| Asia         | (Intercept)  | -836.8908953 | 36.46443200  | -22.950883   | 5.567594e-10 | \n",
       "| Asia         | year         |    0.4531224 |  0.01842033  |  24.599037   | 2.813781e-10 | \n",
       "| Europe       | (Intercept)  | -367.4109940 | 20.09478025  | -18.283902   | 5.149107e-09 | \n",
       "| Europe       | year         |    0.2219321 |  0.01015106  |  21.862960   | 8.969989e-10 | \n",
       "\n",
       "\n"
      ],
      "text/plain": [
       "  continent term        estimate     std.error   statistic  p.value     \n",
       "1 Africa    (Intercept) -524.2578461 53.64492850  -9.772738 1.961582e-06\n",
       "2 Africa    year           0.2895293  0.02709921  10.684047 8.639697e-07\n",
       "3 Americas  (Intercept) -663.1062932 23.87082826 -27.778939 8.478378e-11\n",
       "4 Americas  year           0.3676509  0.01205856  30.488791 3.375967e-11\n",
       "5 Asia      (Intercept) -836.8908953 36.46443200 -22.950883 5.567594e-10\n",
       "6 Asia      year           0.4531224  0.01842033  24.599037 2.813781e-10\n",
       "7 Europe    (Intercept) -367.4109940 20.09478025 -18.283902 5.149107e-09\n",
       "8 Europe    year           0.2219321  0.01015106  21.862960 8.969989e-10"
      ]
     },
     "metadata": {},
     "output_type": "display_data"
    }
   ],
   "source": [
    "library(broom)\n",
    "data %>% \n",
    "filter(continent!=\"Oceania\")  %>%  #not interested in Oceania\n",
    "do(tidy(lm(lifeExp_mean ~ year, .)))"
   ]
  },
  {
   "cell_type": "code",
   "execution_count": 6,
   "metadata": {},
   "outputs": [
    {
     "name": "stderr",
     "output_type": "stream",
     "text": [
      "Warning message:\n",
      "\"package 'ggplot2' was built under R version 3.4.3\""
     ]
    },
    {
     "data": {},
     "metadata": {},
     "output_type": "display_data"
    },
    {
     "data": {
      "image/png": "[encoded data removed]",
      "text/plain": [
       "plot without title"
      ]
     },
     "metadata": {},
     "output_type": "display_data"
    }
   ],
   "source": [
    "library(ggplot2)\n",
    "ggplot(data, aes(x = year, y = lifeExp_mean, col=continent)) +\n",
    "geom_point()  +\n",
    "scale_colour_manual(values=setNames(as.character(continent_color$color),as.character(continent_color$continent))) + #change c\n",
    "geom_smooth(method=lm, se=FALSE, fullrange=TRUE) + #se\n",
    "theme_bw()\n"
   ]
  }
 ],
 "metadata": {
  "kernelspec": {
   "display_name": "R",
   "language": "R",
   "name": "ir"
  },
  "language_info": {
   "codemirror_mode": "r",
   "file_extension": ".r",
   "mimetype": "text/x-r-source",
   "name": "R",
   "pygments_lexer": "r",
   "version": "3.4.2"
  }
 },
 "nbformat": 4,
 "nbformat_minor": 2
}
